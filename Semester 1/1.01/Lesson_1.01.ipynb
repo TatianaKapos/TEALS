{
 "cells": [
  {
   "cell_type": "markdown",
   "metadata": {},
   "source": [
    "# Welcome to Introduction in Computer Science !\n",
    "## Your TEALS volunteers are:\n",
    "#### Sam Puri, Vibhor Mehta, Tatiana Kapos"
   ]
  },
  {
   "cell_type": "markdown",
   "metadata": {},
   "source": [
    "## Objectives:\n",
    "\n",
    "1. What is Python\n",
    "<br>\n",
    "2. Key words\n",
    "<br>\n",
    "3. Sample Command\n",
    "<br>\n",
    "4. Running Jupyter\n",
    "<br>\n",
    "5. Lab\n"
   ]
  },
  {
   "cell_type": "markdown",
   "metadata": {},
   "source": [
    "### Why Learn Computer Science"
   ]
  },
  {
   "cell_type": "code",
   "execution_count": 10,
   "metadata": {},
   "outputs": [
    {
     "data": {
      "text/html": [
       "<iframe width=\"560\" height=\"315\" src=\"https://www.youtube.com/embed/nKIu9yen5nc\" frameborder=\"0\" allow=\"autoplay; encrypted-media\" allowfullscreen> </iframe>"
      ],
      "text/plain": [
       "<IPython.core.display.HTML object>"
      ]
     },
     "metadata": {},
     "output_type": "display_data"
    }
   ],
   "source": [
    "%%HTML\n",
    "<iframe width=\"560\" height=\"315\" src=\"https://www.youtube.com/embed/nKIu9yen5nc\" frameborder=\"0\" allow=\"autoplay; encrypted-media\" allowfullscreen> </iframe>"
   ]
  },
  {
   "cell_type": "markdown",
   "metadata": {},
   "source": [
    "### Key Words:"
   ]
  },
  {
   "cell_type": "markdown",
   "metadata": {},
   "source": [
    "*  Text languages use ‘keywords’ - these are words to perform basic commands. \n",
    "<br>\n",
    "    * They are also called ‘reserved words’, as you cannot have variables with these as names"
   ]
  },
  {
   "cell_type": "code",
   "execution_count": 12,
   "metadata": {},
   "outputs": [
    {
     "data": {
      "text/html": [
       "<img src=\"https://steemitimages.com/0x0/https://steemitimages.com/DQmU7jgxnwhmehJvwffLSCcnfoFk2chMsYPe9fXtLXTa1tB/images%20(1).jpg\"/>"
      ],
      "text/plain": [
       "<IPython.core.display.Image object>"
      ]
     },
     "execution_count": 12,
     "metadata": {},
     "output_type": "execute_result"
    }
   ],
   "source": [
    "from IPython.display import Image\n",
    "from IPython.core.display import HTML \n",
    "Image(url= \"https://steemitimages.com/0x0/https://steemitimages.com/DQmU7jgxnwhmehJvwffLSCcnfoFk2chMsYPe9fXtLXTa1tB/images%20(1).jpg\")"
   ]
  },
  {
   "cell_type": "code",
   "execution_count": null,
   "metadata": {},
   "outputs": [],
   "source": []
  }
 ],
 "metadata": {
  "kernelspec": {
   "display_name": "Python 3",
   "language": "python",
   "name": "python3"
  },
  "language_info": {
   "codemirror_mode": {
    "name": "ipython",
    "version": 3
   },
   "file_extension": ".py",
   "mimetype": "text/x-python",
   "name": "python",
   "nbconvert_exporter": "python",
   "pygments_lexer": "ipython3",
   "version": "3.6.5"
  }
 },
 "nbformat": 4,
 "nbformat_minor": 2
}
